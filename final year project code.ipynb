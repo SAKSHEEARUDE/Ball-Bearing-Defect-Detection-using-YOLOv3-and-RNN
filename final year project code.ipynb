{
 "cells": [
  {
   "cell_type": "markdown",
   "id": "44f0a003",
   "metadata": {},
   "source": [
    "# Yolov3 Model"
   ]
  },
  {
   "cell_type": "code",
   "execution_count": 124,
   "id": "6f9b24ab",
   "metadata": {},
   "outputs": [],
   "source": [
    "#### importing libraries\n",
    "import tensorflow as tf\n",
    "from tensorflow.keras import layers, Model\n",
    "import matplotlib.pyplot as plt"
   ]
  },
  {
   "cell_type": "code",
   "execution_count": 125,
   "id": "9b2c0216",
   "metadata": {},
   "outputs": [],
   "source": [
    "# Define YOLO model for classification\n",
    "def yolo_classification_model(input_shape, num_classes):\n",
    "    base_model = tf.keras.applications.ResNet50(weights='imagenet', include_top=False, input_shape=input_shape)\n",
    "    x = layers.GlobalAveragePooling2D()(base_model.output)\n",
    "    x = layers.Dense(1024, activation='relu')(x)\n",
    "    output = layers.Dense(num_classes, activation='softmax')(x)\n",
    "    model = Model(inputs=base_model.input, outputs=output)\n",
    "    return model\n"
   ]
  },
  {
   "cell_type": "code",
   "execution_count": 126,
   "id": "ce21743c",
   "metadata": {},
   "outputs": [],
   "source": [
    "# Path to your dataset directory\n",
    "dataset_dir = r\"F:\\Projects (2023-24)\\Machine Parts Defection\\casting_data\\casting_data\\grayscale_augmented\"\n"
   ]
  },
  {
   "cell_type": "code",
   "execution_count": 127,
   "id": "1e40bf45",
   "metadata": {},
   "outputs": [
    {
     "name": "stdout",
     "output_type": "stream",
     "text": [
      "Found 6633 files belonging to 2 classes.\n",
      "Using 5307 files for training.\n",
      "Found 6633 files belonging to 2 classes.\n",
      "Using 1326 files for validation.\n"
     ]
    }
   ],
   "source": [
    "# Define image size and batch size\n",
    "image_size = (64, 64)\n",
    "batch_size = 64\n",
    "\n",
    "# Load and preprocess the dataset\n",
    "train_dataset = tf.keras.preprocessing.image_dataset_from_directory(\n",
    "    directory=dataset_dir,\n",
    "    labels='inferred',\n",
    "    label_mode='categorical',\n",
    "    batch_size=batch_size,\n",
    "    image_size=image_size,\n",
    "    validation_split=0.2,\n",
    "    subset='training',\n",
    "    seed=123\n",
    ")\n",
    "\n",
    "validation_dataset = tf.keras.preprocessing.image_dataset_from_directory(\n",
    "    directory=dataset_dir,\n",
    "    labels='inferred',\n",
    "    label_mode='categorical',\n",
    "    batch_size=batch_size,\n",
    "    image_size=image_size,\n",
    "    validation_split=0.2,\n",
    "    subset='validation',\n",
    "    seed=123\n",
    ")\n",
    "\n"
   ]
  },
  {
   "cell_type": "code",
   "execution_count": 128,
   "id": "ada41df2",
   "metadata": {},
   "outputs": [],
   "source": [
    "# Define loss function and metrics\n",
    "loss_function = tf.keras.losses.CategoricalCrossentropy()\n",
    "metrics = ['accuracy']\n"
   ]
  },
  {
   "cell_type": "code",
   "execution_count": 129,
   "id": "ec8503c6",
   "metadata": {},
   "outputs": [],
   "source": [
    "# Create and compile the model\n",
    "input_shape = image_size + (3,)  # Input shape of your images\n",
    "num_classes = len(train_dataset.class_names)  # Number of classes in your dataset\n",
    "model = yolo_classification_model(input_shape, num_classes)\n",
    "model.compile(optimizer='adam', loss=loss_function, metrics=metrics)\n"
   ]
  },
  {
   "cell_type": "code",
   "execution_count": 130,
   "id": "623ff6b9",
   "metadata": {},
   "outputs": [
    {
     "name": "stdout",
     "output_type": "stream",
     "text": [
      "Epoch 1/20\n",
      "83/83 [==============================] - 351s 4s/step - loss: 0.2821 - accuracy: 0.8967 - val_loss: 5.0068 - val_accuracy: 0.4457\n",
      "Epoch 2/20\n",
      "83/83 [==============================] - 269s 3s/step - loss: 0.0466 - accuracy: 0.9836 - val_loss: 0.1652 - val_accuracy: 0.9683\n",
      "Epoch 3/20\n",
      "83/83 [==============================] - 274s 3s/step - loss: 0.0425 - accuracy: 0.9855 - val_loss: 3.5249 - val_accuracy: 0.5641\n",
      "Epoch 4/20\n",
      "83/83 [==============================] - 277s 3s/step - loss: 0.0452 - accuracy: 0.9845 - val_loss: 0.0561 - val_accuracy: 0.9864\n",
      "Epoch 5/20\n",
      "83/83 [==============================] - 279s 3s/step - loss: 0.0341 - accuracy: 0.9887 - val_loss: 2.4561 - val_accuracy: 0.7202\n",
      "Epoch 6/20\n",
      "83/83 [==============================] - 285s 3s/step - loss: 0.0284 - accuracy: 0.9911 - val_loss: 0.0298 - val_accuracy: 0.9894\n",
      "Epoch 7/20\n",
      "83/83 [==============================] - 295s 4s/step - loss: 0.0311 - accuracy: 0.9894 - val_loss: 8.0018 - val_accuracy: 0.5762\n",
      "Epoch 8/20\n",
      "83/83 [==============================] - 303s 4s/step - loss: 0.0227 - accuracy: 0.9934 - val_loss: 5.0334 - val_accuracy: 0.6335\n",
      "Epoch 9/20\n",
      "83/83 [==============================] - 295s 4s/step - loss: 0.0199 - accuracy: 0.9921 - val_loss: 5.1149 - val_accuracy: 0.6410\n",
      "Epoch 10/20\n",
      "83/83 [==============================] - 284s 3s/step - loss: 0.0191 - accuracy: 0.9938 - val_loss: 1.1465 - val_accuracy: 0.7587\n",
      "Epoch 11/20\n",
      "83/83 [==============================] - 283s 3s/step - loss: 0.0186 - accuracy: 0.9917 - val_loss: 6.4488 - val_accuracy: 0.5822\n",
      "Epoch 12/20\n",
      "83/83 [==============================] - 283s 3s/step - loss: 0.0097 - accuracy: 0.9964 - val_loss: 0.0519 - val_accuracy: 0.9819\n",
      "Epoch 13/20\n",
      "83/83 [==============================] - 282s 3s/step - loss: 0.0076 - accuracy: 0.9966 - val_loss: 0.6655 - val_accuracy: 0.8220\n",
      "Epoch 14/20\n",
      "83/83 [==============================] - 282s 3s/step - loss: 0.0198 - accuracy: 0.9932 - val_loss: 43.8633 - val_accuracy: 0.5724\n",
      "Epoch 15/20\n",
      "83/83 [==============================] - 282s 3s/step - loss: 0.0103 - accuracy: 0.9957 - val_loss: 6.5141 - val_accuracy: 0.5030\n",
      "Epoch 16/20\n",
      "83/83 [==============================] - 273s 3s/step - loss: 0.0260 - accuracy: 0.9902 - val_loss: 2.3104 - val_accuracy: 0.6976\n",
      "Epoch 17/20\n",
      "83/83 [==============================] - 272s 3s/step - loss: 0.0105 - accuracy: 0.9966 - val_loss: 0.0870 - val_accuracy: 0.9834\n",
      "Epoch 18/20\n",
      "83/83 [==============================] - 274s 3s/step - loss: 0.0261 - accuracy: 0.9934 - val_loss: 0.0910 - val_accuracy: 0.9751\n",
      "Epoch 19/20\n",
      "83/83 [==============================] - 271s 3s/step - loss: 0.0199 - accuracy: 0.9932 - val_loss: 0.1704 - val_accuracy: 0.9487\n",
      "Epoch 20/20\n",
      "83/83 [==============================] - 288s 3s/step - loss: 0.0188 - accuracy: 0.9927 - val_loss: 0.0406 - val_accuracy: 0.9857\n"
     ]
    }
   ],
   "source": [
    "# Train the model\n",
    "history = model.fit(train_dataset, validation_data=validation_dataset, epochs=20)\n"
   ]
  },
  {
   "cell_type": "code",
   "execution_count": 193,
   "id": "0716caf2",
   "metadata": {},
   "outputs": [
    {
     "data": {
      "image/png": "[encoded data removed]",
      "text/plain": [
       "<Figure size 648x288 with 2 Axes>"
      ]
     },
     "metadata": {
      "needs_background": "light"
     },
     "output_type": "display_data"
    }
   ],
   "source": [
    "plt.figure(figsize=(9, 4))\n",
    "\n",
    "\n",
    "plt.subplot(1, 2, 1)\n",
    "plt.plot(history.history['loss'])\n",
    "plt.plot(history.history['val_loss'])\n",
    "plt.title('Model loss')\n",
    "plt.ylabel('Loss')\n",
    "plt.xlabel('Epoch')\n",
    "plt.legend(['Train', 'Validation'], loc='upper left')\n",
    "\n",
    "\n",
    "plt.subplot(1, 2, 2)\n",
    "plt.plot(history.history['accuracy'])\n",
    "plt.plot(history.history['val_accuracy'])\n",
    "plt.title('Model accuracy')\n",
    "plt.ylabel('Accuracy')\n",
    "plt.xlabel('Epoch')\n",
    "plt.legend(['Train', 'Validation'], loc='upper left')\n",
    "\n",
    "plt.show()"
   ]
  },
  {
   "cell_type": "code",
   "execution_count": 198,
   "id": "77fbac64",
   "metadata": {},
   "outputs": [
    {
     "name": "stdout",
     "output_type": "stream",
     "text": [
      "21/21 [==============================] - 13s 574ms/step - loss: 0.0406 - accuracy: 0.9857\n",
      "Validation Accuracy: 0.9856711626052856\n",
      "Model saved successfully.\n"
     ]
    }
   ],
   "source": [
    "# Evaluate the model\n",
    "evaluation = model.evaluate(validation_dataset)\n",
    "print(\"Validation Accuracy:\", evaluation[1])\n",
    "\n",
    "# Save the model\n",
    "model.save(\"yolo_classification_model.h5\")\n",
    "print(\"Model saved successfully.\")\n"
   ]
  },
  {
   "cell_type": "code",
   "execution_count": 203,
   "id": "7db80675",
   "metadata": {},
   "outputs": [
    {
     "name": "stdout",
     "output_type": "stream",
     "text": [
      "Found 6633 files belonging to 2 classes.\n",
      "Using 1326 files for validation.\n"
     ]
    }
   ],
   "source": [
    "test_dataset = tf.keras.preprocessing.image_dataset_from_directory(\n",
    "    directory=dataset_dir,\n",
    "    labels='inferred',\n",
    "    label_mode='categorical',\n",
    "    batch_size=batch_size,\n",
    "    image_size=image_size,\n",
    "    validation_split=0.2,\n",
    "    subset='validation',  \n",
    "    seed=456\n",
    ")\n"
   ]
  },
  {
   "cell_type": "code",
   "execution_count": 152,
   "id": "37aacea4",
   "metadata": {},
   "outputs": [],
   "source": [
    "test_loss, test_accuracy = model.evaluate(test_dataset, verbose=0)\n"
   ]
  },
  {
   "cell_type": "code",
   "execution_count": 155,
   "id": "813f4a96",
   "metadata": {},
   "outputs": [
    {
     "name": "stdout",
     "output_type": "stream",
     "text": [
      "Found 6633 files belonging to 2 classes.\n",
      "104/104 [==============================] - 57s 545ms/step - loss: 0.0348 - accuracy: 0.9878\n",
      "Test Loss: 0.034805309027433395\n",
      "Test Accuracy: 0.9877883195877075\n"
     ]
    }
   ],
   "source": [
    "# Load and preprocess the test dataset\n",
    "test_dataset = tf.keras.preprocessing.image_dataset_from_directory(\n",
    "    directory=dataset_dir,\n",
    "    labels='inferred',\n",
    "    label_mode='categorical',\n",
    "    batch_size=batch_size,\n",
    "    image_size=image_size,\n",
    "    seed=123,\n",
    "    subset=None  \n",
    ")\n",
    "\n",
    "# Evaluate the model on the test dataset\n",
    "test_loss, test_accuracy = model.evaluate(test_dataset)\n",
    "print(f'Test Loss: {test_loss}')\n",
    "print(f'Test Accuracy: {test_accuracy}')\n"
   ]
  },
  {
   "cell_type": "code",
   "execution_count": 200,
   "id": "ea934900",
   "metadata": {},
   "outputs": [
    {
     "name": "stdout",
     "output_type": "stream",
     "text": [
      "1/1 [==============================] - 12s 12s/step\n",
      "Predicted result is Normal\n"
     ]
    },
    {
     "data": {
      "image/png": "[encoded data removed]",
      "text/plain": [
       "<Figure size 432x288 with 1 Axes>"
      ]
     },
     "metadata": {
      "needs_background": "light"
     },
     "output_type": "display_data"
    }
   ],
   "source": [
    "import os\n",
    "import numpy as np\n",
    "import cv2\n",
    "from tensorflow.keras.preprocessing.image import img_to_array, load_img\n",
    "from tensorflow.keras.models import load_model\n",
    "import matplotlib.pyplot as plt\n",
    "\n",
    "# Load the model\n",
    "model = load_model('yolo_classification_model.h5')\n",
    "\n",
    "# Path to the test image\n",
    "test_image_path = 'cast_ok_0_12.jpeg'\n",
    "\n",
    "# Load and preprocess the image\n",
    "test_image = load_img(test_image_path, target_size=(64, 64))\n",
    "test_image = img_to_array(test_image)\n",
    "test_image = np.expand_dims(test_image, axis=0)\n",
    "\n",
    "# Get the class probabilities using the model\n",
    "result = np.argmax(model.predict(test_image))\n",
    "\n",
    "# Interpret the result\n",
    "if result == 0:\n",
    "    prediction = \"Defected\"\n",
    "elif result == 1:\n",
    "    prediction = \"Normal\"\n",
    "else:\n",
    "    prediction = \"Unexpected result\"\n",
    "\n",
    "print(\"Predicted result is\", prediction)\n",
    "\n",
    "# Visualize the image\n",
    "image = cv2.imread(test_image_path)\n",
    "image = cv2.cvtColor(image, cv2.COLOR_BGR2RGB)  # Convert from BGR to RGB\n",
    "plt.imshow(image)\n",
    "plt.axis('off')\n",
    "plt.title(prediction)\n",
    "plt.show()\n"
   ]
  },
  {
   "cell_type": "code",
   "execution_count": 201,
   "id": "31f25c4f",
   "metadata": {},
   "outputs": [
    {
     "name": "stdout",
     "output_type": "stream",
     "text": [
      "1/1 [==============================] - 5s 5s/step\n",
      "Predicted result is Defected\n"
     ]
    },
    {
     "data": {
      "image/png": "[encoded data removed]",
      "text/plain": [
       "<Figure size 432x288 with 1 Axes>"
      ]
     },
     "metadata": {
      "needs_background": "light"
     },
     "output_type": "display_data"
    }
   ],
   "source": [
    "import os\n",
    "import numpy as np\n",
    "import cv2\n",
    "from tensorflow.keras.preprocessing.image import img_to_array, load_img\n",
    "from tensorflow.keras.models import load_model\n",
    "import matplotlib.pyplot as plt\n",
    "\n",
    "# Load the model\n",
    "model = load_model('yolo_classification_model.h5')\n",
    "\n",
    "# Path to the test image\n",
    "test_image_path = 'cast_def_0_19.jpeg'\n",
    "\n",
    "# Load and preprocess the image\n",
    "test_image = load_img(test_image_path, target_size=(64, 64))\n",
    "test_image = img_to_array(test_image)\n",
    "test_image = np.expand_dims(test_image, axis=0)\n",
    "\n",
    "# Get the class probabilities using the model\n",
    "result = np.argmax(model.predict(test_image))\n",
    "\n",
    "# Interpret the result\n",
    "if result == 0:\n",
    "    prediction = \"Defected\"\n",
    "elif result == 1:\n",
    "    prediction = \"Normal\"\n",
    "else:\n",
    "    prediction = \"Unexpected result\"\n",
    "\n",
    "print(\"Predicted result is\", prediction)\n",
    "\n",
    "# Visualize the image\n",
    "image = cv2.imread(test_image_path)\n",
    "image = cv2.cvtColor(image, cv2.COLOR_BGR2RGB)  # Convert from BGR to RGB\n",
    "plt.imshow(image)\n",
    "plt.axis('off')\n",
    "plt.title(prediction)\n",
    "plt.show()\n"
   ]
  },
  {
   "cell_type": "code",
   "execution_count": null,
   "id": "4b2957e0",
   "metadata": {},
   "outputs": [],
   "source": []
  },
  {
   "cell_type": "markdown",
   "id": "50854880",
   "metadata": {},
   "source": [
    "# RNN Model"
   ]
  },
  {
   "cell_type": "code",
   "execution_count": 140,
   "id": "29b9d39a",
   "metadata": {},
   "outputs": [],
   "source": [
    "import torch\n",
    "import torch.nn as nn\n",
    "import torch.optim as optim\n",
    "from torch.utils.data import DataLoader\n",
    "from torchvision import datasets, transforms\n",
    "from sklearn.metrics import precision_score, recall_score, f1_score, confusion_matrix, roc_curve, auc\n",
    "import matplotlib.pyplot as plt\n",
    "import seaborn as sns\n",
    "import numpy as np"
   ]
  },
  {
   "cell_type": "code",
   "execution_count": 141,
   "id": "41240141",
   "metadata": {},
   "outputs": [],
   "source": [
    "# Define a simple RNN model for processing images for classification\n",
    "class ImageRNN(nn.Module):\n",
    "    def __init__(self, input_size, hidden_size, output_size):\n",
    "        super(ImageRNN, self).__init__()\n",
    "        self.hidden_size = hidden_size\n",
    "        self.conv = nn.Conv2d(input_size, hidden_size, kernel_size=3, padding=1) \n",
    "        self.rnn = nn.RNN(hidden_size, hidden_size, batch_first=True)\n",
    "        self.fc = nn.Linear(hidden_size, output_size)\n",
    "        \n",
    "    def forward(self, x):\n",
    "        batch_size = x.size(0)\n",
    "        \n",
    "        # Apply convolutional layer\n",
    "        x = self.conv(x)\n",
    "        \n",
    "        # Reshape the output of convolution to match RNN input shape\n",
    "        x = x.view(batch_size, -1, self.hidden_size)\n",
    "        \n",
    "        h0 = torch.zeros(1, batch_size, self.hidden_size).to(x.device)\n",
    "        out, _ = self.rnn(x, h0)\n",
    "        out = self.fc(out[:, -1, :])  # Use the output of the last time step\n",
    "        return out"
   ]
  },
  {
   "cell_type": "code",
   "execution_count": 142,
   "id": "2db176a4",
   "metadata": {},
   "outputs": [],
   "source": [
    "# Set device\n",
    "device = torch.device(\"cuda\" if torch.cuda.is_available() else \"cpu\")\n",
    "\n",
    "# Define dataset path and transforms\n",
    "dataset_path = r\"F:\\Projects (2023-24)\\Machine Parts Defection\\casting_data\\casting_data\\grayscale_augmented\"\n",
    "transform = transforms.Compose([\n",
    "    transforms.Resize((64, 64)),  # Resize images to 64x64\n",
    "    transforms.ToTensor(),         # Convert images to tensors\n",
    "])\n"
   ]
  },
  {
   "cell_type": "code",
   "execution_count": 143,
   "id": "10148b9b",
   "metadata": {},
   "outputs": [],
   "source": [
    "# Load dataset\n",
    "dataset = datasets.ImageFolder(root=dataset_path, transform=transform)\n",
    "\n",
    "# Split dataset into train and test sets\n",
    "train_size = int(0.8 * len(dataset))\n",
    "test_size = len(dataset) - train_size\n",
    "train_dataset, test_dataset = torch.utils.data.random_split(dataset, [train_size, test_size])\n"
   ]
  },
  {
   "cell_type": "code",
   "execution_count": 144,
   "id": "044be9af",
   "metadata": {},
   "outputs": [],
   "source": [
    "\n",
    "# Define dataloaders\n",
    "batch_size = 64\n",
    "train_dataloader = DataLoader(train_dataset, batch_size=batch_size, shuffle=True)\n",
    "test_dataloader = DataLoader(test_dataset, batch_size=batch_size, shuffle=False)\n"
   ]
  },
  {
   "cell_type": "code",
   "execution_count": 145,
   "id": "b124dd09",
   "metadata": {},
   "outputs": [],
   "source": [
    "\n",
    "# Define model\n",
    "input_size = 3  \n",
    "hidden_size = 64\n",
    "output_size = len(dataset.classes)  # Number of classes\n",
    "rnn_model = ImageRNN(input_size=input_size, hidden_size=hidden_size, output_size=output_size).to(device)\n"
   ]
  },
  {
   "cell_type": "code",
   "execution_count": 146,
   "id": "19ab386c",
   "metadata": {},
   "outputs": [],
   "source": [
    "\n",
    "# Define loss function and optimizer\n",
    "criterion = nn.CrossEntropyLoss()\n",
    "optimizer = optim.Adam(rnn_model.parameters(), lr=0.001)\n"
   ]
  },
  {
   "cell_type": "code",
   "execution_count": 147,
   "id": "c8881316",
   "metadata": {},
   "outputs": [
    {
     "name": "stdout",
     "output_type": "stream",
     "text": [
      "Epoch [1/20], Train Loss: 0.6600, Train Accuracy: 60.42%\n",
      "Epoch [2/20], Train Loss: 0.6385, Train Accuracy: 63.66%\n",
      "Epoch [3/20], Train Loss: 0.6035, Train Accuracy: 67.45%\n",
      "Epoch [4/20], Train Loss: 0.5930, Train Accuracy: 68.34%\n",
      "Epoch [5/20], Train Loss: 0.5678, Train Accuracy: 69.81%\n",
      "Epoch [6/20], Train Loss: 0.5567, Train Accuracy: 70.67%\n",
      "Epoch [7/20], Train Loss: 0.5292, Train Accuracy: 73.12%\n",
      "Epoch [8/20], Train Loss: 0.5657, Train Accuracy: 69.88%\n",
      "Epoch [9/20], Train Loss: 0.5127, Train Accuracy: 73.43%\n",
      "Epoch [10/20], Train Loss: 0.5079, Train Accuracy: 74.73%\n",
      "Epoch [11/20], Train Loss: 0.5244, Train Accuracy: 73.11%\n",
      "Epoch [12/20], Train Loss: 0.4739, Train Accuracy: 76.76%\n",
      "Epoch [13/20], Train Loss: 0.4788, Train Accuracy: 76.74%\n",
      "Epoch [14/20], Train Loss: 0.4493, Train Accuracy: 78.18%\n",
      "Epoch [15/20], Train Loss: 0.4548, Train Accuracy: 77.61%\n",
      "Epoch [16/20], Train Loss: 0.4175, Train Accuracy: 80.23%\n",
      "Epoch [17/20], Train Loss: 0.3990, Train Accuracy: 81.36%\n",
      "Epoch [18/20], Train Loss: 0.4089, Train Accuracy: 80.04%\n",
      "Epoch [19/20], Train Loss: 0.3938, Train Accuracy: 81.72%\n",
      "Epoch [20/20], Train Loss: 0.3717, Train Accuracy: 82.66%\n"
     ]
    }
   ],
   "source": [
    "# Training loop\n",
    "num_epochs = 20\n",
    "train_losses = []\n",
    "train_accuracies = []\n",
    "\n",
    "for epoch in range(num_epochs):\n",
    "    rnn_model.train()\n",
    "    running_loss = 0.0\n",
    "    correct = 0\n",
    "    total = 0\n",
    "    \n",
    "    for images, labels in train_dataloader:\n",
    "        images = images.to(device)\n",
    "        labels = labels.to(device)\n",
    "        \n",
    "        optimizer.zero_grad()\n",
    "        \n",
    "        outputs = rnn_model(images)\n",
    "        loss = criterion(outputs, labels)\n",
    "        loss.backward()\n",
    "        optimizer.step()\n",
    "        \n",
    "        running_loss += loss.item() * images.size(0)\n",
    "        \n",
    "        _, predicted = torch.max(outputs, 1)\n",
    "        total += labels.size(0)\n",
    "        correct += (predicted == labels).sum().item()\n",
    "        \n",
    "    epoch_loss = running_loss / len(train_dataset)\n",
    "    train_accuracy = correct / total\n",
    "    train_losses.append(epoch_loss)\n",
    "    train_accuracies.append(train_accuracy)\n",
    "    \n",
    "    print(f\"Epoch [{epoch+1}/{num_epochs}], Train Loss: {epoch_loss:.4f}, Train Accuracy: {train_accuracy:.2%}\")"
   ]
  },
  {
   "cell_type": "code",
   "execution_count": 148,
   "id": "c6f9ec03",
   "metadata": {},
   "outputs": [
    {
     "name": "stdout",
     "output_type": "stream",
     "text": [
      "Test Loss: 0.3860\n",
      "Test Accuracy: 83.42%\n",
      "Test Precision: 84.84%\n",
      "Test Recall: 83.42%\n",
      "Test F1 Score: 83.44%\n"
     ]
    }
   ],
   "source": [
    "\n",
    "# After training loop, evaluate the model\n",
    "test_loss, test_accuracy, test_precision, test_recall, test_f1, test_labels, test_predictions, test_probs = evaluate_model(rnn_model, test_dataloader, criterion, device)\n",
    "\n",
    "print(f\"Test Loss: {test_loss:.4f}\")\n",
    "print(f\"Test Accuracy: {test_accuracy:.2%}\")\n",
    "print(f\"Test Precision: {test_precision:.2%}\")\n",
    "print(f\"Test Recall: {test_recall:.2%}\")\n",
    "print(f\"Test F1 Score: {test_f1:.2%}\")\n"
   ]
  },
  {
   "cell_type": "code",
   "execution_count": 149,
   "id": "dac334b2",
   "metadata": {},
   "outputs": [
    {
     "data": {
      "image/png": "[encoded data removed]",
      "text/plain": [
       "<Figure size 864x360 with 2 Axes>"
      ]
     },
     "metadata": {
      "needs_background": "light"
     },
     "output_type": "display_data"
    }
   ],
   "source": [
    "\n",
    "# Plotting training loss and accuracy\n",
    "plt.figure(figsize=(12, 5))\n",
    "\n",
    "plt.subplot(1, 2, 1)\n",
    "plt.plot(train_losses, label='Train Loss')\n",
    "plt.xlabel('Epochs')\n",
    "plt.ylabel('Loss')\n",
    "plt.title('Training Loss')\n",
    "plt.legend()\n",
    "\n",
    "plt.subplot(1, 2, 2)\n",
    "plt.plot(train_accuracies, label='Train Accuracy')\n",
    "plt.xlabel('Epochs')\n",
    "plt.ylabel('Accuracy')\n",
    "plt.title('Training Accuracy')\n",
    "plt.legend()\n",
    "\n",
    "plt.show()"
   ]
  },
  {
   "cell_type": "code",
   "execution_count": 194,
   "id": "3347b353",
   "metadata": {},
   "outputs": [],
   "source": [
    "model.save('rnn_model.h5')"
   ]
  },
  {
   "cell_type": "code",
   "execution_count": 195,
   "id": "7013da56",
   "metadata": {},
   "outputs": [
    {
     "name": "stdout",
     "output_type": "stream",
     "text": [
      "1/1 [==============================] - 5s 5s/step\n",
      "Predicted result is Normal\n"
     ]
    }
   ],
   "source": [
    "import os\n",
    "import numpy as np\n",
    "from django.shortcuts import render, redirect, get_object_or_404\n",
    "from django.core.files.storage import FileSystemStorage\n",
    "from django.http import HttpResponse\n",
    "from django.contrib import messages\n",
    "import cv2\n",
    "import tensorflow as tf\n",
    "from tensorflow.keras.preprocessing.image import img_to_array, load_img\n",
    "from tensorflow.keras.models import load_model\n",
    "\n",
    "# Load the model\n",
    "model = load_model('rnn_model.h5')\n",
    "\n",
    "# Path to the test image\n",
    "test_image_path = 'cast_ok_0_12.jpeg'\n",
    "\n",
    "# Load and preprocess the image\n",
    "test_image = load_img(test_image_path, target_size=(64, 64))\n",
    "test_image = img_to_array(test_image)\n",
    "test_image = np.expand_dims(test_image, axis=0)\n",
    "\n",
    "# Get the class probabilities using the model\n",
    "result = np.argmax(model.predict(test_image))\n",
    "\n",
    "# Interpret the result\n",
    "if result == 0:\n",
    "    print(\"Predicted result is defected\")\n",
    "elif result == 1:\n",
    "    print(\"Predicted result is Normal\")\n",
    "else:\n",
    "    print(\"Unexpected result\")\n"
   ]
  },
  {
   "cell_type": "code",
   "execution_count": 196,
   "id": "8645650d",
   "metadata": {},
   "outputs": [
    {
     "name": "stdout",
     "output_type": "stream",
     "text": [
      "1/1 [==============================] - 2s 2s/step\n",
      "Predicted result is defected\n"
     ]
    }
   ],
   "source": [
    "import os\n",
    "import numpy as np\n",
    "from django.shortcuts import render, redirect, get_object_or_404\n",
    "from django.core.files.storage import FileSystemStorage\n",
    "from django.http import HttpResponse\n",
    "from django.contrib import messages\n",
    "import cv2\n",
    "import tensorflow as tf\n",
    "from tensorflow.keras.preprocessing.image import img_to_array, load_img\n",
    "from tensorflow.keras.models import load_model\n",
    "\n",
    "# Load the model\n",
    "model = load_model('rnn_model.h5')\n",
    "\n",
    "# Path to the test image\n",
    "test_image_path = 'cast_def_0_19.jpeg'\n",
    "\n",
    "# Load and preprocess the image\n",
    "test_image = load_img(test_image_path, target_size=(64, 64))\n",
    "test_image = img_to_array(test_image)\n",
    "test_image = np.expand_dims(test_image, axis=0)\n",
    "\n",
    "# Get the class probabilities using the model\n",
    "result = np.argmax(model.predict(test_image))\n",
    "\n",
    "# Interpret the result\n",
    "if result == 0:\n",
    "    print(\"Predicted result is defected\")\n",
    "elif result == 1:\n",
    "    print(\"Predicted result is Normal\")\n",
    "else:\n",
    "    print(\"Unexpected result\")\n"
   ]
  },
  {
   "cell_type": "code",
   "execution_count": null,
   "id": "b724ec12",
   "metadata": {},
   "outputs": [],
   "source": []
  }
 ],
 "metadata": {
  "kernelspec": {
   "display_name": "Python 3 (ipykernel)",
   "language": "python",
   "name": "python3"
  },
  "language_info": {
   "codemirror_mode": {
    "name": "ipython",
    "version": 3
   },
   "file_extension": ".py",
   "mimetype": "text/x-python",
   "name": "python",
   "nbconvert_exporter": "python",
   "pygments_lexer": "ipython3",
   "version": "3.10.1"
  }
 },
 "nbformat": 4,
 "nbformat_minor": 5
}
